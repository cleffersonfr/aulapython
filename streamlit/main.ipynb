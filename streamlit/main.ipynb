{
 "cells": [
  {
   "cell_type": "code",
   "execution_count": 1,
   "id": "98fa70ab",
   "metadata": {},
   "outputs": [
    {
     "name": "stdout",
     "output_type": "stream",
     "text": [
      "    Unnamed: 0 Unnamed: 1 Unnamed: 2 Unnamed: 3    Unnamed: 4  \\\n",
      "0          NaN        NaN        NaN        NaN           NaN   \n",
      "1  Period Name     Region    Country      State  Legal Entity   \n",
      "2       Jan-24       AMER         BR        NaN         00111   \n",
      "3       Jan-24       AMER         BR        NaN         00111   \n",
      "4       Jan-24       AMER         BR        NaN         00111   \n",
      "\n",
      "                                          Unnamed: 5 Unnamed: 6 Unnamed: 7  \\\n",
      "0                                                NaN        NaN        NaN   \n",
      "1                                  Legal Entity Name         BU    BU Name   \n",
      "2  Equinix do Brasil Soluções de Tecnologia em In...        000   BU Other   \n",
      "3  Equinix do Brasil Soluções de Tecnologia em In...        000   BU Other   \n",
      "4  Equinix do Brasil Soluções de Tecnologia em In...        000   BU Other   \n",
      "\n",
      "  Unnamed: 8     Unnamed: 9  ... Unnamed: 63 Unnamed: 64 Unnamed: 65  \\\n",
      "0        NaN            NaN  ...         NaN         NaN         NaN   \n",
      "1   Location  Location Name  ...         NaN         NaN         NaN   \n",
      "2       0201  SP3 Sao Paulo  ...         NaN         NaN         NaN   \n",
      "3       0201  SP3 Sao Paulo  ...         NaN         NaN         NaN   \n",
      "4       0201  SP3 Sao Paulo  ...         NaN         NaN         NaN   \n",
      "\n",
      "  Unnamed: 66 Unnamed: 67 Unnamed: 68 Unnamed: 69 Unnamed: 70 Unnamed: 71  \\\n",
      "0         NaN         NaN         NaN         NaN         NaN         NaN   \n",
      "1         NaN         NaN         NaN         NaN         NaN         NaN   \n",
      "2         NaN         NaN         NaN         NaN      Jan-24         Jan   \n",
      "3         NaN         NaN         NaN         NaN      Feb-24         Feb   \n",
      "4         NaN         NaN         NaN         NaN      Mar-24         Mar   \n",
      "\n",
      "  Unnamed: 72  \n",
      "0         NaN  \n",
      "1         NaN  \n",
      "2         1.0  \n",
      "3         2.0  \n",
      "4         3.0  \n",
      "\n",
      "[5 rows x 73 columns]\n"
     ]
    }
   ],
   "source": [
    "import streamlit as st \n",
    "import pandas as pd\n",
    "\n",
    "df = pd.read_excel('./GL.xlsx')\n",
    "print(df.head())\n"
   ]
  },
  {
   "cell_type": "code",
   "execution_count": 7,
   "id": "7b5264d0",
   "metadata": {},
   "outputs": [
    {
     "data": {
      "text/html": [
       "<div>\n",
       "<style scoped>\n",
       "    .dataframe tbody tr th:only-of-type {\n",
       "        vertical-align: middle;\n",
       "    }\n",
       "\n",
       "    .dataframe tbody tr th {\n",
       "        vertical-align: top;\n",
       "    }\n",
       "\n",
       "    .dataframe thead th {\n",
       "        text-align: right;\n",
       "    }\n",
       "</style>\n",
       "<table border=\"1\" class=\"dataframe\">\n",
       "  <thead>\n",
       "    <tr style=\"text-align: right;\">\n",
       "      <th></th>\n",
       "      <th>Period Name</th>\n",
       "      <th>Region</th>\n",
       "      <th>Country</th>\n",
       "      <th>State</th>\n",
       "      <th>Legal Entity</th>\n",
       "      <th>Legal Entity Name</th>\n",
       "      <th>BU</th>\n",
       "      <th>BU Name</th>\n",
       "      <th>Location</th>\n",
       "      <th>Location Name</th>\n",
       "      <th>...</th>\n",
       "      <th>NaN</th>\n",
       "      <th>NaN</th>\n",
       "      <th>NaN</th>\n",
       "      <th>NaN</th>\n",
       "      <th>NaN</th>\n",
       "      <th>NaN</th>\n",
       "      <th>NaN</th>\n",
       "      <th>NaN</th>\n",
       "      <th>NaN</th>\n",
       "      <th>NaN</th>\n",
       "    </tr>\n",
       "  </thead>\n",
       "  <tbody>\n",
       "  </tbody>\n",
       "</table>\n",
       "<p>0 rows × 73 columns</p>\n",
       "</div>"
      ],
      "text/plain": [
       "Empty DataFrame\n",
       "Columns: [Period Name, Region, Country, State, Legal Entity, Legal Entity Name, BU, BU Name, Location, Location Name, IBX, Cost Center, Cost Center Name, Parent Cost Center, Account, Account Description, Intercompany, Product, Future1, Account Distribution, Ledger Name, Je Header ID, Je Line Num, Journal Source, Journal Category, Journal Name, Accounting Date, GL Posted Date, Batch Name, Batch Created By, Journal Line Description, FAH Event Type, FAH Line Desc, Transactional Currency Code, Functional Currency Code, Entered Dr, Entered Cr, Transactional Net, Accounted Dr, Accounted Cr, Functional Net, EBS Transaction Number, EBS Party Number, EBS Party Name, Sales Order Number, PO Category, PO Number, PO Line, PO Line Description, Commodity Code, Purpose Of Purchase, Project Reference, Parent Name, Journal Posted By, Customer Reference 1, Customer Reference 3, Asset Number, Asset Category, Asset Location, Asset Description, UUID, Source File Name, EBS Journal Line Description, nan, nan, nan, nan, nan, nan, nan, nan, nan, nan]\n",
       "Index: []\n",
       "\n",
       "[0 rows x 73 columns]"
      ]
     },
     "execution_count": 7,
     "metadata": {},
     "output_type": "execute_result"
    }
   ],
   "source": [
    "df.columns=df.iloc[1].to_list()\n",
    "df=df.dropna()\n",
    "df.head()\n"
   ]
  },
  {
   "cell_type": "code",
   "execution_count": null,
   "id": "6b29f942",
   "metadata": {},
   "outputs": [],
   "source": []
  }
 ],
 "metadata": {
  "kernelspec": {
   "display_name": "venv",
   "language": "python",
   "name": "python3"
  },
  "language_info": {
   "codemirror_mode": {
    "name": "ipython",
    "version": 3
   },
   "file_extension": ".py",
   "mimetype": "text/x-python",
   "name": "python",
   "nbconvert_exporter": "python",
   "pygments_lexer": "ipython3",
   "version": "3.13.7"
  }
 },
 "nbformat": 4,
 "nbformat_minor": 5
}

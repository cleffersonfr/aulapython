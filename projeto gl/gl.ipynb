{
 "cells": [
  {
   "cell_type": "code",
   "execution_count": 1,
   "id": "7fe380dc-ad72-4088-80a3-f65740f75141",
   "metadata": {},
   "outputs": [
    {
     "name": "stdout",
     "output_type": "stream",
     "text": [
      "Requirement already satisfied: openpyxl in c:\\users\\dell\\appdata\\local\\programs\\python\\python313\\lib\\site-packages (3.1.5)\n",
      "Requirement already satisfied: et-xmlfile in c:\\users\\dell\\appdata\\local\\programs\\python\\python313\\lib\\site-packages (from openpyxl) (2.0.0)\n"
     ]
    }
   ],
   "source": [
    "!pip install openpyxl\n",
    "import pandas as pd\n",
    "import openpyxl"
   ]
  },
  {
   "cell_type": "code",
   "execution_count": 13,
   "id": "4f2d7fc6-5383-4bf2-bf56-e2fe32126a2f",
   "metadata": {
    "scrolled": true
   },
   "outputs": [],
   "source": [
    "file_path = 'C:/Users/dell/Documents/exercicios python/Projeto Pandas/GL.xlsx'\n",
    "df = pd.read_excel(file_path,sheet_name='Base',header=2)\n",
    "df_index = pd.read_excel(file_path,sheet_name='Index')"
   ]
  },
  {
   "cell_type": "code",
   "execution_count": 6,
   "id": "cbaf9839-8f87-41bc-8ffc-a671ea7ac7f4",
   "metadata": {},
   "outputs": [],
   "source": [
    "df = df.drop(columns=['Region','State','Legal Entity','Legal Entity Name','BU','BU Name','IBX','Parent Cost Center','Intercompany','Product','Future1','Account Distribution','Ledger Name','Je Header ID','Je Line Num','Journal Source','Journal Category','Journal Name','Batch Name','Batch Created By','Journal Line Description','FAH Event Type','Functional Currency Code','Functional Currency Code','EBS Transaction Number','Sales Order Number','PO Category','PO Line Description','Commodity Code','Purpose Of Purchase','Project Reference','Parent Name','Journal Posted By','Customer Reference 1','Customer Reference 3','Asset Number','Asset Category','Asset Location','Asset Description','UUID','Source File Name','EBS Journal Line Description'],axis=1)"
   ]
  },
  {
   "cell_type": "code",
   "execution_count": 19,
   "id": "642a2951-6bce-45ea-9199-6ff55215c6d3",
   "metadata": {},
   "outputs": [],
   "source": [
    "df_index['Account'] = df_index['Account'].astype('Int64')"
   ]
  },
  {
   "cell_type": "code",
   "execution_count": 21,
   "id": "cf9c0d46-a102-4ee1-99d0-2f5b4500966e",
   "metadata": {},
   "outputs": [],
   "source": [
    "df = pd.merge(df, df_index[['Account','Agrupamento']], on='Account',how='left')"
   ]
  },
  {
   "cell_type": "code",
   "execution_count": 29,
   "id": "8a849e00-5f74-4104-9f53-f4e9b9d3305e",
   "metadata": {},
   "outputs": [],
   "source": [
    "df['Period Name'] = pd.to_datetime(df['Period Name'],format='%b-%y')\n",
    "df['Year'] = df['Period Name'].dt.year\n",
    "df['Month'] = df['Period Name'].dt.month"
   ]
  },
  {
   "cell_type": "code",
   "execution_count": 30,
   "id": "55f1d27d-0cb4-42e9-bc2f-f7eb4bb74382",
   "metadata": {},
   "outputs": [],
   "source": [
    "df.to_excel('relatorio_tratado.xlsx')"
   ]
  },
  {
   "cell_type": "code",
   "execution_count": null,
   "id": "f877e1b8-c4f4-4f5a-8429-188bfce6ada6",
   "metadata": {},
   "outputs": [],
   "source": []
  },
  {
   "cell_type": "code",
   "execution_count": null,
   "id": "83a7d3e6-fd31-4d35-8843-420fe33d8f10",
   "metadata": {},
   "outputs": [],
   "source": []
  }
 ],
 "metadata": {
  "kernelspec": {
   "display_name": "Python 3 (ipykernel)",
   "language": "python",
   "name": "python3"
  },
  "language_info": {
   "codemirror_mode": {
    "name": "ipython",
    "version": 3
   },
   "file_extension": ".py",
   "mimetype": "text/x-python",
   "name": "python",
   "nbconvert_exporter": "python",
   "pygments_lexer": "ipython3",
   "version": "3.13.7"
  }
 },
 "nbformat": 4,
 "nbformat_minor": 5
}
